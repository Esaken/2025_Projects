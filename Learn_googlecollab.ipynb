{
  "nbformat": 4,
  "nbformat_minor": 0,
  "metadata": {
    "colab": {
      "provenance": [],
      "authorship_tag": "ABX9TyPXvRovTuUez9LbXh5SnwoZ",
      "include_colab_link": true
    },
    "kernelspec": {
      "name": "python3",
      "display_name": "Python 3"
    },
    "language_info": {
      "name": "python"
    }
  },
  "cells": [
    {
      "cell_type": "markdown",
      "metadata": {
        "id": "view-in-github",
        "colab_type": "text"
      },
      "source": [
        "<a href=\"https://colab.research.google.com/github/Esaken/2025_Projects/blob/main/Learn_googlecollab.ipynb\" target=\"_parent\"><img src=\"https://colab.research.google.com/assets/colab-badge.svg\" alt=\"Open In Colab\"/></a>"
      ]
    },
    {
      "cell_type": "code",
      "execution_count": 1,
      "metadata": {
        "colab": {
          "base_uri": "https://localhost:8080/"
        },
        "id": "ulxFW_sPpQ5v",
        "outputId": "33c3af55-7c70-466c-840b-a4f7be696765"
      },
      "outputs": [
        {
          "output_type": "execute_result",
          "data": {
            "text/plain": [
              "['google/gemini-2.0-flash',\n",
              " 'google/gemini-2.0-flash-lite',\n",
              " 'google/gemini-2.5-flash',\n",
              " 'google/gemini-2.5-flash-lite',\n",
              " 'google/gemini-2.5-pro',\n",
              " 'google/gemma-3-12b',\n",
              " 'google/gemma-3-1b',\n",
              " 'google/gemma-3-27b',\n",
              " 'google/gemma-3-4b']"
            ]
          },
          "metadata": {},
          "execution_count": 1
        }
      ],
      "source": [
        "# @title List available models\n",
        "from google.colab import ai\n",
        "\n",
        "ai.list_models()"
      ]
    },
    {
      "cell_type": "code",
      "source": [
        "# @title Simple batch generation example\n",
        "# Only text-to-text input/output is supported\n",
        "from google.colab import ai\n",
        "\n",
        "response = ai.generate_text(\"What is the capital of France?\")\n",
        "print(response)"
      ],
      "metadata": {
        "colab": {
          "base_uri": "https://localhost:8080/"
        },
        "id": "7abTd4lYpooE",
        "outputId": "77563403-81db-4c83-b3fe-24ee4f92381c"
      },
      "execution_count": 2,
      "outputs": [
        {
          "output_type": "stream",
          "name": "stdout",
          "text": [
            "The capital of France is Paris.\n",
            "\n"
          ]
        }
      ]
    },
    {
      "cell_type": "code",
      "source": [
        "#@title Text formatting setup\n",
        "#code is not necessary for colab.ai, but is useful in fomatting text chunks\n",
        "import sys\n",
        "\n",
        "class LineWrapper:\n",
        "    def __init__(self, max_length=80):\n",
        "        self.max_length = max_length\n",
        "        self.current_line_length = 0\n",
        "\n",
        "    def print(self, text_chunk):\n",
        "        i = 0\n",
        "        n = len(text_chunk)\n",
        "        while i < n:\n",
        "            start_index = i\n",
        "            while i < n and text_chunk[i] not in ' \\n': # Find end of word\n",
        "                i += 1\n",
        "            current_word = text_chunk[start_index:i]\n",
        "\n",
        "            delimiter = \"\"\n",
        "            if i < n: # If not end of chunk, we found a delimiter\n",
        "                delimiter = text_chunk[i]\n",
        "                i += 1 # Consume delimiter\n",
        "\n",
        "            if current_word:\n",
        "                needs_leading_space = (self.current_line_length > 0)\n",
        "\n",
        "                # Case 1: Word itself is too long for a line (must be broken)\n",
        "                if len(current_word) > self.max_length:\n",
        "                    if needs_leading_space: # Newline if current line has content\n",
        "                        sys.stdout.write('\\n')\n",
        "                        self.current_line_length = 0\n",
        "                    for char_val in current_word: # Break the long word\n",
        "                        if self.current_line_length >= self.max_length:\n",
        "                            sys.stdout.write('\\n')\n",
        "                            self.current_line_length = 0\n",
        "                        sys.stdout.write(char_val)\n",
        "                        self.current_line_length += 1\n",
        "                # Case 2: Word doesn't fit on current line (print on new line)\n",
        "                elif self.current_line_length + (1 if needs_leading_space else 0) + len(current_word) > self.max_length:\n",
        "                    sys.stdout.write('\\n')\n",
        "                    sys.stdout.write(current_word)\n",
        "                    self.current_line_length = len(current_word)\n",
        "                # Case 3: Word fits on current line\n",
        "                else:\n",
        "                    if needs_leading_space:\n",
        "                        # Define punctuation that should not have a leading space\n",
        "                        # when they form an entire \"word\" (token) following another word.\n",
        "                        no_leading_space_punctuation = {\n",
        "                            \",\", \".\", \";\", \":\", \"!\", \"?\",        # Standard sentence punctuation\n",
        "                            \")\", \"]\", \"}\",                     # Closing brackets\n",
        "                            \"'s\", \"'S\", \"'re\", \"'RE\", \"'ve\", \"'VE\", # Common contractions\n",
        "                            \"'m\", \"'M\", \"'ll\", \"'LL\", \"'d\", \"'D\",\n",
        "                            \"n't\", \"N'T\",\n",
        "                            \"...\", \"…\"                          # Ellipses\n",
        "                        }\n",
        "                        if current_word not in no_leading_space_punctuation:\n",
        "                            sys.stdout.write(' ')\n",
        "                            self.current_line_length += 1\n",
        "                    sys.stdout.write(current_word)\n",
        "                    self.current_line_length += len(current_word)\n",
        "\n",
        "            if delimiter == '\\n':\n",
        "                sys.stdout.write('\\n')\n",
        "                self.current_line_length = 0\n",
        "            elif delimiter == ' ':\n",
        "                # If line is full and a space delimiter arrives, it implies a wrap.\n",
        "                if self.current_line_length >= self.max_length:\n",
        "                    sys.stdout.write('\\n')\n",
        "                    self.current_line_length = 0\n",
        "\n",
        "        sys.stdout.flush()\n"
      ],
      "metadata": {
        "id": "tdTc0unQp69M"
      },
      "execution_count": 4,
      "outputs": []
    },
    {
      "cell_type": "code",
      "source": [
        "# @title Formatted streaming example\n",
        "from google.colab import ai\n",
        "\n",
        "wrapper = LineWrapper()\n",
        "for chunk in ai.generate_text('Give me a long winded description about the evolution of the Roman Empire.', model_name='google/gemini-2.0-flash', stream=True):\n",
        "  wrapper.print(chunk)"
      ],
      "metadata": {
        "colab": {
          "base_uri": "https://localhost:8080/"
        },
        "id": "zR99bLzQqDP9",
        "outputId": "4c1b47d0-ef19-4664-b9ef-51b10b14ff05"
      },
      "execution_count": 5,
      "outputs": [
        {
          "output_type": "stream",
          "name": "stdout",
          "text": [
            "Alright, buckle up, because the evolution of the Roman Empire is a saga worthy\n",
            "of Homer himself, a multi-chapter epic filled with political intrigue, military\n",
            "conquest, societal shifts, and enough drama to make your toga twist. It's not a\n",
            "simple linear progression, but rather a messy, twisting, turning path from\n",
            "humble beginnings to a glorious peak and ultimately, a fractured decline.\n",
            "\n",
            "We begin not with an empire, but with a *Republic*, born kicking and screaming\n",
            "from the ashes of a monarchy around 509 BCE. Think of it as the awkward teenage\n",
            "years of Rome. A relatively small city-state nestled in the Italian peninsula,\n",
            "Rome was surrounded by powerful neighbors like the Etruscans and various Italic\n",
            "tribes. Its government, initially controlled by patricians – wealthy landowners\n",
            "– was a complex system of elected officials, including two Consuls holding\n",
            "supreme executive power (but only for a year!), a Senate composed of elder\n",
            "statesmen providing advice and wielding considerable influence, and popular\n",
            "assemblies giving ordinary citizens a (limited) voice. This early Republic was\n",
            "defined by a constant struggle for power, both internal between the social\n",
            "classes and external against rival city-states.\n",
            "\n",
            "These early centuries were a period of ferocious expansion. Rome, with its\n",
            "disciplined legions and a knack for absorbing conquered peoples (often granting\n",
            "them citizenship or some form of Roman rights), systematically conquered its\n",
            "neighbors. The Latin League, the Samnites, the Etruscans – all fell under Roman\n",
            "control. The key ingredient? Military prowess, of course, but also a brilliant\n",
            "strategy of assimilation and offering a stake in the Roman project. \"Divide and\n",
            "Conquer\" was less a cynical maxim and more a practical application of\n",
            "understanding local dynamics. They were ruthless, yes, but also surprisingly\n",
            "pragmatic, often incorporating elements of conquered cultures into their own.\n",
            "\n",
            "The Punic Wars (264-146 BCE), a series of three epic conflicts against the\n",
            "Carthaginian Empire (based in modern-day Tunisia), were a pivotal moment. These\n",
            "wars, particularly the Second Punic War with Hannibal's legendary crossing of\n",
            "the Alps, tested Rome to its very limits. They forged Roman identity in the\n",
            "fires of adversity and solidified its dominance over the Mediterranean.\n",
            "Victories against Carthage brought vast territories, immense wealth, and a taste\n",
            "for empire. Rome went from being a regional power to the dominant force in the\n",
            "Mediterranean.\n",
            "\n",
            "However, this expansion created immense internal strains within the Republic.\n",
            "The influx of wealth and slaves created massive economic inequalities. Land was\n",
            "concentrated in the hands of the wealthy, while small farmers were squeezed out,\n",
            "leading to social unrest and a growing urban proletariat in Rome. The system\n",
            "designed for a small city-state struggled to manage a vast empire. The Gracchi\n",
            "brothers, Tiberius and Gaius, attempted to implement land reforms to address\n",
            "these inequalities, but were assassinated for their efforts, highlighting the\n",
            "increasing violence and political instability within the Republic.\n",
            "\n",
            "The late Republic was marked by a century of civil wars. Powerful generals like\n",
            "Marius and Sulla raised private armies and used them to seize power, challenging\n",
            "the authority of the Senate and the traditional institutions of the Republic.\n",
            "Think of it as the Republic slowly tearing itself apart from the inside. Sulla's\n",
            "brutal dictatorship, though temporary, set a dangerous precedent.\n",
            "\n",
            "Out of this chaos emerged Julius Caesar, a brilliant general and politician who\n",
            "conquered Gaul (modern-day France) and then defied the Senate by crossing the\n",
            "Rubicon River with his army. His ambition and popularity led to his appointment\n",
            "as dictator perpetuo, effectively ending the Republic in all but name. While\n",
            "Caesar implemented important reforms and was widely popular, his ambition and\n",
            "the fear he inspired led to his assassination in 44 BCE by a group of senators\n",
            "who hoped to restore the Republic. But alas, the Rubicon had been crossed, and\n",
            "there was no turning back.\n",
            "\n",
            "Caesar's death triggered another round of civil wars. Eventually, his adopted\n",
            "son Octavian emerged victorious, defeating his rivals Mark Antony and Cleopatra\n",
            "at the Battle of Actium in 31 BCE. Octavian, a master of political maneuvering,\n",
            "skillfully avoided the mistakes of Caesar. He presented himself not as a\n",
            "revolutionary, but as a rest orer of the Republic, while subtly consolidating\n",
            "all power into his own hands.\n",
            "\n",
            "In 27 BCE, the Senate bestowed upon Octavian the title of \"Augustus,\" marking\n",
            "the formal beginning of the Roman Empire. Augustus ushered in a period of\n",
            "relative peace and prosperity known as the Pax Romana, lasting for over two\n",
            "centuries. He reorganized the government, reformed the army, promoted\n",
            "infrastructure projects, and fostered a flourishing of art and literature. The\n",
            "Empire expanded further, encompassing vast territories from Britain to Egypt.\n",
            "\n",
            "The Pax Romana wasn't perfect, of course. There were occasional wars,\n",
            "conspiracies, and tyrannical emperors like Cal igula and Nero. The succession\n",
            "process was often fraught with intrigue and violence. However, compared to the\n",
            "turmoil of the late Republic, it was a golden age of stability and Roman power.\n",
            "\n",
            "The Empire reached its greatest territorial extent under Emperor Trajan in the\n",
            "early 2nd century CE. Its economy flourished, trade routes crisscrossed the\n",
            "Mediterranean, and Roman culture spread throughout the vast empire. Roman law,\n",
            "engineering, and architecture were admired and emulated.\n",
            "\n",
            "But the seeds of decline were already sown. The sheer size of the empire made it\n",
            "increasingly difficult to govern and defend. Internal political instability,\n",
            "economic woes, and external pressures from barbarian tribes all contributed to a\n",
            "gradual weakening of the Empire. The cost of maintaining a large army and a\n",
            "complex bureaucracy became unsustainable.\n",
            "\n",
            "The late 2nd and 3rd centuries CE were a period of crisis known as the \"Crisis\n",
            "of the Third Century.\" Frequent civil wars, economic collapse, and barbarian\n",
            "invasions threatened to tear the Empire apart. Emperors rose and fell with\n",
            "alarming frequency, and the frontiers were constantly under attack.\n",
            "\n",
            "Emperor Diocletian (284-305 CE) attempted to address the crisis by dividing the\n",
            "Empire into two halves, the Western and Eastern Roman Empires, each ruled by an\n",
            "Emperor and a junior Emperor (Caesar). This system, known as the Tetrarchy,\n",
            "aimed to improve administration and defense. While initially successful, it\n",
            "eventually led to renewed civil wars.\n",
            "\n",
            "Constantine I (306-337 CE) reunited the Empire and made Christianity the state\n",
            "religion. He also moved the capital to Byzantium, renaming it Constantinople\n",
            "(modern-day Istanbul). This marked a significant shift in the center of gravity\n",
            "of the Roman world towards the East.\n",
            "\n",
            "After Constantine's death, the Empire was permanently divided. The Western Roman\n",
            "Empire, plagued by internal weaknesses and constant barbarian incursions,\n",
            "gradually disintegrated. In 476 CE, the last Western Roman Emperor, Romulus\n",
            "Augustulus, was deposed by the Germanic chieftain Odoacer, marking the\n",
            "traditional date for the fall of the Western Roman Empire.\n",
            "\n",
            "The Eastern Roman Empire, also known as the Byzantine Empire, continued to\n",
            "thrive for another thousand years. It preserved Roman law, culture, and\n",
            "traditions, while developing its own distinct identity. The Byzantine Empire\n",
            "finally fell to the Ottoman Turks in 1453 CE with the capture of Constantinople.\n",
            "\n",
            "So, the evolution of the Roman Empire is not a story of simple rise and fall,\n",
            "but a complex and multifaceted process spanning centuries. It’s a tale of\n",
            "remarkable achievements, devastating failures, and enduring legacies that\n",
            "continue to shape our world today. From Republic to Empire, from expansion to\n",
            "fragmentation, it’s a story that continues to fascinate and inspire awe. It's a\n",
            "sprawling drama filled with ambition, betrayal, conquest, and, ultimately, the\n",
            "inevitable entropy that claims all great powers. And that, my friend, is the\n",
            "long and winding road of the Roman Empire.\n"
          ]
        }
      ]
    }
  ]
}