{
 "cells": [
  {
   "cell_type": "markdown",
   "id": "a667e33e",
   "metadata": {},
   "source": [
    "Auto-Generate Your Resume from LinkedIn\n",
    "Not able to make it work"
   ]
  },
  {
   "cell_type": "code",
   "execution_count": null,
   "id": "5a75d56b",
   "metadata": {},
   "outputs": [
    {
     "ename": "SyntaxError",
     "evalue": "invalid syntax (3090170470.py, line 4)",
     "output_type": "error",
     "traceback": [
      "  \u001b[36mCell\u001b[39m\u001b[36m \u001b[39m\u001b[32mIn[4]\u001b[39m\u001b[32m, line 4\u001b[39m\n\u001b[31m    \u001b[39m\u001b[31mdef extract_linkedin_data(Kennedy Waweru - Resume.pdf):\u001b[39m\n                                      ^\n\u001b[31mSyntaxError\u001b[39m\u001b[31m:\u001b[39m invalid syntax\n"
     ]
    }
   ],
   "source": [
    "from bs4 import BeautifulSoup\n",
    "import pdfplumber\n",
    "\n",
    "def extract_linkedin_data(pdf_path):\n",
    "    with pdfplumber.open(pdf_path) as pdf:\n",
    "        text = ''\n",
    "        for page in pdf.pages:\n",
    "            text += page.extract_text()\n",
    "    return text\n",
    "\n",
    "def create_markdown_resume(text):\n",
    "    sections = text.split('\\n\\n')\n",
    "    with open(\"resume.md\", \"w\") as file:\n",
    "        for section in sections:\n",
    "            file.write(f\"## {section.splitlines()[0]}\\n\")\n",
    "            for line in section.splitlines()[1:]:\n",
    "                file.write(f\"- {line}\\n\")\n",
    "            file.write('\\n')\n",
    "\n",
    "text_data = extract_linkedin_data('LinkedIn_Profile.pdf')\n",
    "create_markdown_resume(text_data)"
   ]
  }
 ],
 "metadata": {
  "kernelspec": {
   "display_name": "Python 3",
   "language": "python",
   "name": "python3"
  },
  "language_info": {
   "codemirror_mode": {
    "name": "ipython",
    "version": 3
   },
   "file_extension": ".py",
   "mimetype": "text/x-python",
   "name": "python",
   "nbconvert_exporter": "python",
   "pygments_lexer": "ipython3",
   "version": "3.13.7"
  }
 },
 "nbformat": 4,
 "nbformat_minor": 5
}
