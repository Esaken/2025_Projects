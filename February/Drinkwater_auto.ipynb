{
 "cells": [
  {
   "cell_type": "code",
   "execution_count": null,
   "id": "3c8718e7-0ba0-4d1b-9d2e-3a4941dda86a",
   "metadata": {},
   "outputs": [],
   "source": [
    "#Remind me to drink water\n",
    "\n",
    "import time\n",
    "from plyer import notification\n",
    "def drink_water_reminder():\n",
    "    \"\"\"Sends a notification to the user to drink water.\"\"\"\n",
    "    title = \"Drink Water Reminder\"\n",
    "    message = \"It's time to drink some water!\"\n",
    "    notification.notify(title, message)\n",
    "def main():\n",
    "    \"\"\"Runs the drink water reminder function every hour.\"\"\"\n",
    "    while True:\n",
    "        time.sleep(60)\n",
    "        drink_water_reminder()\n",
    "if __name__ == \"__main__\":\n",
    "    main()"
   ]
  },
  {
   "cell_type": "code",
   "execution_count": null,
   "id": "561ca730-37c3-4022-ab02-8de72977e40c",
   "metadata": {},
   "outputs": [],
   "source": []
  }
 ],
 "metadata": {
  "kernelspec": {
   "display_name": "Python 3 (ipykernel)",
   "language": "python",
   "name": "python3"
  },
  "language_info": {
   "codemirror_mode": {
    "name": "ipython",
    "version": 3
   },
   "file_extension": ".py",
   "mimetype": "text/x-python",
   "name": "python",
   "nbconvert_exporter": "python",
   "pygments_lexer": "ipython3",
   "version": "3.12.7"
  }
 },
 "nbformat": 4,
 "nbformat_minor": 5
}
