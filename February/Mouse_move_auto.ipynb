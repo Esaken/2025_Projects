{
 "cells": [
  {
   "cell_type": "code",
   "execution_count": 2,
   "id": "cd5c43d3-3e32-4a99-a316-2692bfab4b43",
   "metadata": {},
   "outputs": [
    {
     "ename": "KeyboardInterrupt",
     "evalue": "",
     "output_type": "error",
     "traceback": [
      "\u001b[1;31m---------------------------------------------------------------------------\u001b[0m",
      "\u001b[1;31mKeyboardInterrupt\u001b[0m                         Traceback (most recent call last)",
      "Cell \u001b[1;32mIn[2], line 12\u001b[0m\n\u001b[0;32m      9\u001b[0m         moveTo(x,y)\n\u001b[0;32m     10\u001b[0m         sleep(\u001b[38;5;241m1\u001b[39m)\n\u001b[1;32m---> 12\u001b[0m \u001b[43mmain\u001b[49m\u001b[43m(\u001b[49m\u001b[43m)\u001b[49m\n",
      "Cell \u001b[1;32mIn[2], line 10\u001b[0m, in \u001b[0;36mmain\u001b[1;34m()\u001b[0m\n\u001b[0;32m      8\u001b[0m y\u001b[38;5;241m=\u001b[39mrandint(\u001b[38;5;241m1\u001b[39m,\u001b[38;5;241m1000\u001b[39m)\n\u001b[0;32m      9\u001b[0m moveTo(x,y)\n\u001b[1;32m---> 10\u001b[0m \u001b[43msleep\u001b[49m\u001b[43m(\u001b[49m\u001b[38;5;241;43m1\u001b[39;49m\u001b[43m)\u001b[49m\n",
      "\u001b[1;31mKeyboardInterrupt\u001b[0m: "
     ]
    }
   ],
   "source": [
    "from pyautogui import moveTo\n",
    "from datetime import datetime\n",
    "from time import sleep\n",
    "from random import randint\n",
    "def main():\n",
    "    while True:\n",
    "        x=randint(1,1000)\n",
    "        y=randint(1,1000)\n",
    "        moveTo(x,y)\n",
    "        sleep(1)\n",
    "        \n",
    "main()"
   ]
  },
  {
   "cell_type": "code",
   "execution_count": null,
   "id": "37e60be8-912b-4864-9aad-645fe34cdc47",
   "metadata": {},
   "outputs": [],
   "source": []
  }
 ],
 "metadata": {
  "kernelspec": {
   "display_name": "Python 3 (ipykernel)",
   "language": "python",
   "name": "python3"
  },
  "language_info": {
   "codemirror_mode": {
    "name": "ipython",
    "version": 3
   },
   "file_extension": ".py",
   "mimetype": "text/x-python",
   "name": "python",
   "nbconvert_exporter": "python",
   "pygments_lexer": "ipython3",
   "version": "3.12.7"
  }
 },
 "nbformat": 4,
 "nbformat_minor": 5
}
