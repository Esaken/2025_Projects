{
 "cells": [
  {
   "cell_type": "code",
   "execution_count": 1,
   "id": "9e8ab612",
   "metadata": {},
   "outputs": [
    {
     "name": "stdout",
     "output_type": "stream",
     "text": [
      "Defaulting to user installation because normal site-packages is not writeable\n",
      "Collecting stegano\n",
      "  Obtaining dependency information for stegano from https://files.pythonhosted.org/packages/a8/4f/8b8e259953e8caeb2d487b45c9b722536e51f270964b85bfa796f98be458/stegano-2.0.0-py3-none-any.whl.metadata\n",
      "  Using cached stegano-2.0.0-py3-none-any.whl.metadata (4.3 kB)\n",
      "Collecting crayons>=0.4.0 (from stegano)\n",
      "  Obtaining dependency information for crayons>=0.4.0 from https://files.pythonhosted.org/packages/5b/0d/e3fad4ca1de8e70e06444e7d777a5984261e1db98758b5be3e8296c03fe9/crayons-0.4.0-py2.py3-none-any.whl.metadata\n",
      "  Using cached crayons-0.4.0-py2.py3-none-any.whl.metadata (2.8 kB)\n",
      "Collecting opencv-python>=4.11.0.86 (from stegano)\n",
      "  Obtaining dependency information for opencv-python>=4.11.0.86 from https://files.pythonhosted.org/packages/fa/80/eb88edc2e2b11cd2dd2e56f1c80b5784d11d6e6b7f04a1145df64df40065/opencv_python-4.12.0.88-cp37-abi3-win_amd64.whl.metadata\n",
      "  Using cached opencv_python-4.12.0.88-cp37-abi3-win_amd64.whl.metadata (19 kB)\n",
      "Collecting piexif>=1.1.3 (from stegano)\n",
      "  Obtaining dependency information for piexif>=1.1.3 from https://files.pythonhosted.org/packages/2c/d8/6f63147dd73373d051c5eb049ecd841207f898f50a5a1d4378594178f6cf/piexif-1.1.3-py2.py3-none-any.whl.metadata\n",
      "  Using cached piexif-1.1.3-py2.py3-none-any.whl.metadata (3.7 kB)\n",
      "Collecting pillow<12.0,>=9.5 (from stegano)\n",
      "  Obtaining dependency information for pillow<12.0,>=9.5 from https://files.pythonhosted.org/packages/f1/cc/29c0f5d64ab8eae20f3232da8f8571660aa0ab4b8f1331da5c2f5f9a938e/pillow-11.3.0-cp311-cp311-win_amd64.whl.metadata\n",
      "  Using cached pillow-11.3.0-cp311-cp311-win_amd64.whl.metadata (9.2 kB)\n",
      "Requirement already satisfied: colorama in c:\\programdata\\anaconda3\\lib\\site-packages (from crayons>=0.4.0->stegano) (0.4.6)\n",
      "Collecting numpy<2.3.0,>=2 (from opencv-python>=4.11.0.86->stegano)\n",
      "  Obtaining dependency information for numpy<2.3.0,>=2 from https://files.pythonhosted.org/packages/31/0a/f354fb7176b81747d870f7991dc763e157a934c717b67b58456bc63da3df/numpy-2.2.6-cp311-cp311-win_amd64.whl.metadata\n",
      "  Using cached numpy-2.2.6-cp311-cp311-win_amd64.whl.metadata (60 kB)\n",
      "Using cached stegano-2.0.0-py3-none-any.whl (37 kB)\n",
      "Using cached crayons-0.4.0-py2.py3-none-any.whl (4.6 kB)\n",
      "Using cached opencv_python-4.12.0.88-cp37-abi3-win_amd64.whl (39.0 MB)\n",
      "Using cached piexif-1.1.3-py2.py3-none-any.whl (20 kB)\n",
      "Using cached pillow-11.3.0-cp311-cp311-win_amd64.whl (7.0 MB)\n",
      "Using cached numpy-2.2.6-cp311-cp311-win_amd64.whl (12.9 MB)\n",
      "Installing collected packages: pillow, piexif, numpy, crayons, opencv-python, stegano\n",
      "Successfully installed crayons-0.4.0 numpy-2.2.6 opencv-python-4.12.0.88 piexif-1.1.3 pillow-11.3.0 stegano-2.0.0\n"
     ]
    },
    {
     "name": "stderr",
     "output_type": "stream",
     "text": [
      "  WARNING: The scripts f2py.exe and numpy-config.exe are installed in 'C:\\Users\\Kennedy Waweru\\AppData\\Roaming\\Python\\Python311\\Scripts' which is not on PATH.\n",
      "  Consider adding this directory to PATH or, if you prefer to suppress this warning, use --no-warn-script-location.\n",
      "  WARNING: The scripts stegano-lsb.exe, stegano-red.exe, stegano-steganalysis-parity.exe and stegano-steganalysis-statistics.exe are installed in 'C:\\Users\\Kennedy Waweru\\AppData\\Roaming\\Python\\Python311\\Scripts' which is not on PATH.\n",
      "  Consider adding this directory to PATH or, if you prefer to suppress this warning, use --no-warn-script-location.\n",
      "ERROR: pip's dependency resolver does not currently take into account all the packages that are installed. This behaviour is the source of the following dependency conflicts.\n",
      "gensim 4.3.0 requires FuzzyTM>=0.4.0, which is not installed.\n",
      "tables 3.8.0 requires blosc2~=2.0.0, which is not installed.\n",
      "tables 3.8.0 requires cython>=0.29.21, which is not installed.\n",
      "numba 0.57.1 requires numpy<1.25,>=1.21, but you have numpy 2.2.6 which is incompatible.\n",
      "scipy 1.11.1 requires numpy<1.28.0,>=1.21.6, but you have numpy 2.2.6 which is incompatible.\n"
     ]
    }
   ],
   "source": [
    "!pip install stegano"
   ]
  },
  {
   "cell_type": "code",
   "execution_count": 2,
   "id": "3711f052",
   "metadata": {},
   "outputs": [
    {
     "ename": "ModuleNotFoundError",
     "evalue": "No module named 'stegano'",
     "output_type": "error",
     "traceback": [
      "\u001b[1;31m---------------------------------------------------------------------------\u001b[0m",
      "\u001b[1;31mModuleNotFoundError\u001b[0m                       Traceback (most recent call last)",
      "Cell \u001b[1;32mIn[2], line 2\u001b[0m\n\u001b[0;32m      1\u001b[0m \u001b[38;5;28;01mimport\u001b[39;00m \u001b[38;5;21;01mpandas\u001b[39;00m \u001b[38;5;28;01mas\u001b[39;00m \u001b[38;5;21;01mpd\u001b[39;00m\n\u001b[1;32m----> 2\u001b[0m \u001b[38;5;28;01mfrom\u001b[39;00m \u001b[38;5;21;01mstegano\u001b[39;00m \u001b[38;5;28;01mimport\u001b[39;00m lsb\n\u001b[0;32m      3\u001b[0m \u001b[38;5;28;01mimport\u001b[39;00m \u001b[38;5;21;01mos\u001b[39;00m\n\u001b[0;32m      4\u001b[0m \u001b[38;5;28;01mimport\u001b[39;00m \u001b[38;5;21;01mmatplotlib\u001b[39;00m\u001b[38;5;21;01m.\u001b[39;00m\u001b[38;5;21;01mpyplot\u001b[39;00m \u001b[38;5;28;01mas\u001b[39;00m \u001b[38;5;21;01mplt\u001b[39;00m\n",
      "\u001b[1;31mModuleNotFoundError\u001b[0m: No module named 'stegano'"
     ]
    }
   ],
   "source": [
    "import pandas as pd\n",
    "from stegano import lsb\n",
    "import os\n",
    "import matplotlib.pyplot as plt\n",
    "import numpy as np\n",
    "from PIL import Image\n",
    "import scipy.spatial.distance as dist\n",
    "import string\n",
    "import random\n",
    "from essential_generators import DocumentGenerator\n",
    "from scipy.fftpack import dct\n",
    "from skimage.io import imread\n",
    "from tqdm import tqdm"
   ]
  },
  {
   "cell_type": "code",
   "execution_count": null,
   "id": "37369e33",
   "metadata": {},
   "outputs": [],
   "source": []
  }
 ],
 "metadata": {
  "kernelspec": {
   "display_name": "Python 3 (ipykernel)",
   "language": "python",
   "name": "python3"
  },
  "language_info": {
   "codemirror_mode": {
    "name": "ipython",
    "version": 3
   },
   "file_extension": ".py",
   "mimetype": "text/x-python",
   "name": "python",
   "nbconvert_exporter": "python",
   "pygments_lexer": "ipython3",
   "version": "3.11.5"
  }
 },
 "nbformat": 4,
 "nbformat_minor": 5
}
